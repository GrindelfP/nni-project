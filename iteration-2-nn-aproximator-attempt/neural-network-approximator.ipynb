{
 "cells": [
  {
   "cell_type": "code",
   "execution_count": 173,
   "id": "c7deb1d6-9402-4ab9-ab5d-89f829d9ec9b",
   "metadata": {},
   "outputs": [],
   "source": [
    "import numpy as np\n",
    "from typing import Callable, List, Tuple"
   ]
  },
  {
   "cell_type": "code",
   "execution_count": 174,
   "id": "f6c00e1a-f2e7-446b-9a33-0a89cb0f400a",
   "metadata": {},
   "outputs": [],
   "source": [
    "from NNA import Approximator"
   ]
  },
  {
   "cell_type": "code",
   "execution_count": 175,
   "id": "97baf3ba-7df3-46fe-81ba-2ff47430fdc9",
   "metadata": {},
   "outputs": [],
   "source": [
    "# HYPERPARAMETERS\n",
    "\n",
    "DATASET_SIZE = 5000\n",
    "np.random.seed(42)"
   ]
  },
  {
   "cell_type": "code",
   "execution_count": 163,
   "id": "ae07a113-63b2-47e4-bef5-6bd21c5e9818",
   "metadata": {},
   "outputs": [
    {
     "name": "stdout",
     "output_type": "stream",
     "text": [
      "+-------------------------------------+\n",
      "|     NEURAL NETWORK APPROXIMATOR     |\n",
      "+--------------+----------------------+\n",
      "|    Layer     | Number of Parameters |\n",
      "+--------------+----------------------+\n",
      "| Input Layer  |          1           |\n",
      "| Hidden Layer |         4506         |\n",
      "| Output Layer |          2           |\n",
      "+--------------+----------------------+\n",
      "Total Parameters Count: 4509\n"
     ]
    }
   ],
   "source": [
    "nn_approximator = Approximator(input_size=1, training_set_size=DATASET_SIZE, k1=1, k2=10)\n",
    "nn_approximator.info()"
   ]
  },
  {
   "cell_type": "code",
   "execution_count": 176,
   "id": "94bfdbb1-eff2-4873-a4e8-92170989316b",
   "metadata": {},
   "outputs": [],
   "source": [
    "def f(x: float) -> float:\n",
    "    \"\"\"\n",
    "    Calculates the natural logarithm of a given number.\n",
    "\n",
    "    :param x: The input value for which the natural logarithm is computed. Must be a positive number.\n",
    "    :return: The natural logarithm of the input value.\n",
    "    \"\"\"\n",
    "    \n",
    "    return np.log(x)"
   ]
  },
  {
   "cell_type": "code",
   "execution_count": 177,
   "id": "082b5a41-22bb-48b7-a05e-c062c66f3d4d",
   "metadata": {},
   "outputs": [],
   "source": [
    "def generate_dataset(size: int, func: Callable[[float], float], lower: int = 0, upper: int = 1) -> List[Tuple[float, float]]:\n",
    "    \"\"\"\n",
    "    Generates a dataset of random values and their corresponding function outputs.\n",
    "\n",
    "    :param size: The number of data points to generate.\n",
    "    :param func: A function that takes a float as input and returns a float as output. This function will be applied to each random value generated.\n",
    "    :param lower: The lower bound for the range from which random values are generated. Defaults to 0.\n",
    "    :param upper: The upper bound for the range from which random values are generated. Defaults to 1.\n",
    "    :return: A list of tuples where each tuple contains a random float and the result of applying the func to that float.\n",
    "    \"\"\"\n",
    "\n",
    "    return [(x, func(x)) for x in np.random.uniform(lower, upper, size)]"
   ]
  },
  {
   "cell_type": "code",
   "execution_count": 178,
   "id": "f974a910-70b2-4471-a51d-f69fca4aa930",
   "metadata": {},
   "outputs": [],
   "source": [
    "training_data = generate_dataset(DATASET_SIZE, f)\n",
    "test_data = generate_dataset(int(DATASET_SIZE * 0.3), f)"
   ]
  },
  {
   "cell_type": "code",
   "execution_count": 171,
   "id": "bca5fe3f-242e-4d3f-807c-2921b2c79f19",
   "metadata": {},
   "outputs": [
    {
     "name": "stderr",
     "output_type": "stream",
     "text": [
      "Training: 100%|█████████████████████████████████████████████████████████████████████| 50/50 [02:22<00:00,  2.85s/epoch]\n"
     ]
    },
    {
     "data": {
      "text/plain": [
       "array([5.06661977])"
      ]
     },
     "execution_count": 171,
     "metadata": {},
     "output_type": "execute_result"
    }
   ],
   "source": [
    "nn_approximator.train(training_data, epochs_num=50, lm_param=0.0001)"
   ]
  },
  {
   "cell_type": "code",
   "execution_count": 179,
   "id": "a1ff9967-e44a-4bbd-b163-99bb006dcd40",
   "metadata": {},
   "outputs": [
    {
     "name": "stdout",
     "output_type": "stream",
     "text": [
      "Mean Squared Error on test data: [4.83911183]\n"
     ]
    }
   ],
   "source": [
    "mse = nn_approximator.test(test_data)\n",
    "print(f\"Mean Squared Error on test data: {mse}\")"
   ]
  },
  {
   "cell_type": "code",
   "execution_count": 182,
   "id": "cf033ab6-c264-4029-9581-137381c08fc5",
   "metadata": {},
   "outputs": [
    {
     "data": {
      "text/plain": [
       "array([1.])"
      ]
     },
     "execution_count": 182,
     "metadata": {},
     "output_type": "execute_result"
    }
   ],
   "source": [
    "predicted_value = nn_approximator.predict(np.array([0]))\n",
    "predicted_value"
   ]
  },
  {
   "cell_type": "code",
   "execution_count": null,
   "id": "0ba41b08-4fe0-4535-ae22-6b829a9af2bc",
   "metadata": {},
   "outputs": [],
   "source": []
  }
 ],
 "metadata": {
  "kernelspec": {
   "display_name": "venv",
   "language": "python",
   "name": "venv"
  },
  "language_info": {
   "codemirror_mode": {
    "name": "ipython",
    "version": 3
   },
   "file_extension": ".py",
   "mimetype": "text/x-python",
   "name": "python",
   "nbconvert_exporter": "python",
   "pygments_lexer": "ipython3",
   "version": "3.12.7"
  }
 },
 "nbformat": 4,
 "nbformat_minor": 5
}
