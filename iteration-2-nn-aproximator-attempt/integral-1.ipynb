{
 "cells": [
  {
   "cell_type": "markdown",
   "id": "1e190ffa-44a0-429b-aaf5-a86f005c80fb",
   "metadata": {},
   "source": [
    "$\n",
    "\\large\\int\\limits_0^1 \\alpha^a (1 - \\alpha)^b \\, d\\alpha \\int\\limits_0^\\infty \\frac{t^m}{(1 + t)^n} F[z_0] \\, dt \\equiv I(a, b, m, n; F[z_0])\n",
    "$\n",
    "\n",
    "$\n",
    "R^2 = \\alpha_1 q_1^2 + \\alpha_2 q_2^2 = \\alpha_1 q_1^2 + (1 - \\alpha_1) q_2^2,\n",
    "$\n",
    "$\n",
    "R^2 = \\alpha_1^2 q_1^2 + \\alpha_2^2 q_2^2 + 2 \\alpha_1 \\alpha_2 (q_1 q_2),\n",
    "$\n",
    "\n",
    "$\n",
    "z_0 = t D + \\frac{t}{1 + t} R^2,\n",
    "$\n",
    "\n",
    "$\n",
    "D = \\alpha_1 \\left( b_1^2 P^2 + m_1^2 \\right) + \\alpha_2 \\left( b_2^2 P^2 + m_2^2 \\right),\n",
    "$\n",
    "\n",
    "$\n",
    "F[z_0] = \\exp(-z_0).\n",
    "$\n",
    "________________________________\n",
    "\n",
    "$\n",
    "b_1 = \\frac{m_2}{m_1 + m_2} q_1 - b_1 P,\n",
    "$\n",
    "\n",
    "$\n",
    "b_2 = \\frac{m_1}{m_1 + m_2} q_2 = b_2 P,\n",
    "$\n",
    "\n",
    "$\n",
    "u_1 = (p + q_1)^2 + m_1^2,\n",
    "$\n",
    "\n",
    "$\n",
    "u_2 = (p + q_2)^2 + m_2^2,\n",
    "$\n",
    "\n",
    "$\n",
    "u_3 = (p + q_3)^2 + m_3^2,\n",
    "$\n",
    "\n",
    "$\n",
    "R_\\mu = \\alpha_1 q_1^\\mu + \\alpha_2 q_2^\\mu = \\alpha_1 q_1^\\mu + (1 - \\alpha_1) q_2^\\mu,\n",
    "$"
   ]
  },
  {
   "cell_type": "code",
   "execution_count": null,
   "id": "b8d4be74-4095-4203-8457-54bdb7b97859",
   "metadata": {},
   "outputs": [],
   "source": []
  }
 ],
 "metadata": {
  "kernelspec": {
   "display_name": "Python 3 (ipykernel)",
   "language": "python",
   "name": "python3"
  },
  "language_info": {
   "codemirror_mode": {
    "name": "ipython",
    "version": 3
   },
   "file_extension": ".py",
   "mimetype": "text/x-python",
   "name": "python",
   "nbconvert_exporter": "python",
   "pygments_lexer": "ipython3",
   "version": "3.12.7"
  }
 },
 "nbformat": 4,
 "nbformat_minor": 5
}
