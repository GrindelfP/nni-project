{
 "cells": [
  {
   "cell_type": "markdown",
   "metadata": {
    "id": "-pnyYYVcsLai"
   },
   "source": [
    "# Реализация 1 для NNI по статье: Using Neural Networks for Fast Numerical Integration and Optimization\n",
    "\n",
    "## Цели\n",
    "1. без углубления в детали повторить идею, описанную в статье,\n",
    "2. проанализировать результаты."
   ]
  },
  {
   "cell_type": "markdown",
   "metadata": {
    "id": "yGyYCOrasqRM"
   },
   "source": [
    "## Материалы\n",
    "\n",
    "[Статья: Using Neural Networks for Fast Numerical Integration and Optimization](https://ieeexplore.ieee.org/stamp/stamp.jsp?arnumber=9084130)\n",
    "\n",
    "[Использование полилогарифмической функции библиотеки mpmath](https://mpmath.org/doc/current/functions/zeta.html)"
   ]
  },
  {
   "cell_type": "markdown",
   "metadata": {
    "id": "KTeM5n1rtA_Y"
   },
   "source": [
    "## Импорт библиотек"
   ]
  },
  {
   "cell_type": "code",
   "execution_count": 8,
   "metadata": {
    "id": "v-B4hc3-uzSq"
   },
   "outputs": [],
   "source": [
    "import numpy as np\n",
    "import matplotlib.pyplot as plt"
   ]
  },
  {
   "cell_type": "code",
   "execution_count": 9,
   "metadata": {
    "id": "mCXnQCUcwJCD"
   },
   "outputs": [],
   "source": [
    "from keras.models import Sequential\n",
    "from keras.layers import Dense\n",
    "from sklearn.model_selection import train_test_split\n",
    "from scipy.special import expi"
   ]
  },
  {
   "cell_type": "code",
   "execution_count": 10,
   "metadata": {},
   "outputs": [],
   "source": [
    "from scipy.integrate import simpson"
   ]
  },
  {
   "cell_type": "code",
   "execution_count": 11,
   "metadata": {},
   "outputs": [],
   "source": [
    "from mpmath import polylog"
   ]
  },
  {
   "cell_type": "code",
   "execution_count": 12,
   "metadata": {},
   "outputs": [],
   "source": [
    "from math import sin, cos"
   ]
  },
  {
   "cell_type": "markdown",
   "metadata": {
    "id": "Bn6SBmeItFYb"
   },
   "source": [
    "## Подинтегральная функция"
   ]
  },
  {
   "cell_type": "code",
   "execution_count": 13,
   "metadata": {
    "id": "tfynQDmVTXu7"
   },
   "outputs": [],
   "source": [
    "def f(x):\n",
    "  return np.log(x)"
   ]
  },
  {
   "cell_type": "markdown",
   "metadata": {
    "id": "fqel5_PetXBc"
   },
   "source": [
    "## Функция генерации общей выборки"
   ]
  },
  {
   "cell_type": "code",
   "execution_count": 14,
   "metadata": {
    "id": "NFEPzWKouIEu"
   },
   "outputs": [],
   "source": [
    "def generate_dataset(func, size):\n",
    "    x = np.random.uniform(0, 100, size)\n",
    "    y = f(x)\n",
    "    data_set = np.column_stack((x, y))\n",
    "\n",
    "    return data_set"
   ]
  },
  {
   "cell_type": "markdown",
   "metadata": {
    "id": "9genfnbutOdu"
   },
   "source": [
    "## Численный метод Симпсона (на основе библиотеки scipy)"
   ]
  },
  {
   "cell_type": "code",
   "execution_count": 15,
   "metadata": {
    "id": "C6LgUfAJgH5e"
   },
   "outputs": [],
   "source": [
    "def solve_integral(a, b):\n",
    "    x = np.linspace(a, b, 100)\n",
    "    y = f(x)\n",
    "    dx = (b - a) / 99\n",
    "    integral = simpson(y, dx=dx)\n",
    "    return integral"
   ]
  },
  {
   "cell_type": "markdown",
   "metadata": {
    "id": "pBQV8NuGtlFW"
   },
   "source": [
    "## Реализация интегрированной нейросети для NNI"
   ]
  },
  {
   "cell_type": "code",
   "execution_count": 16,
   "metadata": {
    "id": "yNZiKhhsTUJC"
   },
   "outputs": [],
   "source": [
    "def sigmoid_integral_term(b_1_j, w_1_j, alpha_1, beta_1):\n",
    "    term1 = polylog(1, -np.exp(-b_1_j - w_1_j * alpha_1))\n",
    "    term2 = polylog(1, -np.exp(-b_1_j - w_1_j * beta_1))\n",
    "\n",
    "    return term1 - term2"
   ]
  },
  {
   "cell_type": "code",
   "execution_count": 17,
   "metadata": {
    "id": "QQCw-CUIiZGP"
   },
   "outputs": [],
   "source": [
    "def approximated_integral(weights_and_biases, alpha_1, beta_1):\n",
    "\n",
    "    w_1 = list(weights_and_biases[0][0])\n",
    "    b_1 = list(weights_and_biases[1])\n",
    "    w_2 = list(weights_and_biases[2])\n",
    "    b_2 = list(weights_and_biases[3])\n",
    "\n",
    "    integral_value = b_2 * (beta_1 - alpha_1)\n",
    "\n",
    "    for j in range(len(w_2)):\n",
    "        Phi_j = sigmoid_integral_term(b_1[j], w_1[j], alpha_1, beta_1)\n",
    "        integral_value += w_2[j] * ((beta_1 - alpha_1) + Phi_j / w_1[j])\n",
    "\n",
    "    return integral_value"
   ]
  },
  {
   "cell_type": "markdown",
   "metadata": {
    "id": "gssJz-Wptu11"
   },
   "source": [
    "## Создание выборки, разделение на обучающую и тестовую выборки\n",
    "\n",
    "Совокупность состоит и 100 000 пар чисел (x, f(x)), где x - случайное число\n",
    "(вероятность распределена равномерно), f(x) - подинтегральная функция от переменной х, определенная выше."
   ]
  },
  {
   "cell_type": "code",
   "execution_count": 18,
   "metadata": {
    "colab": {
     "base_uri": "https://localhost:8080/"
    },
    "id": "-1bzXPHeu6su",
    "outputId": "2eb7bea8-0391-4919-b3f5-10bab6a18b44"
   },
   "outputs": [
    {
     "data": {
      "text/plain": [
       "(1000000, 2)"
      ]
     },
     "execution_count": 18,
     "metadata": {},
     "output_type": "execute_result"
    }
   ],
   "source": [
    "dataset = generate_dataset(f, 1000000)\n",
    "dataset.shape"
   ]
  },
  {
   "cell_type": "code",
   "execution_count": 19,
   "metadata": {},
   "outputs": [
    {
     "data": {
      "text/plain": [
       "array([69.584195  ,  4.24253746])"
      ]
     },
     "execution_count": 19,
     "metadata": {},
     "output_type": "execute_result"
    }
   ],
   "source": [
    "dataset[46]"
   ]
  },
  {
   "cell_type": "code",
   "execution_count": 20,
   "metadata": {
    "id": "jLtqXgb4xit9"
   },
   "outputs": [],
   "source": [
    "x = dataset[:, 0]\n",
    "y = dataset[:, 1]"
   ]
  },
  {
   "cell_type": "code",
   "execution_count": 21,
   "metadata": {
    "id": "0XRneTG_vHbp"
   },
   "outputs": [],
   "source": [
    "x_train, x_test, y_train, y_test = train_test_split(x, y, test_size=0.25)"
   ]
  },
  {
   "cell_type": "code",
   "execution_count": 22,
   "metadata": {
    "colab": {
     "base_uri": "https://localhost:8080/"
    },
    "id": "pj_pBeV1vY7E",
    "outputId": "7058a947-b497-434d-c961-c70d39ae7a9c"
   },
   "outputs": [
    {
     "name": "stdout",
     "output_type": "stream",
     "text": [
      "(750000,) (750000,) (250000,) (250000,)\n"
     ]
    }
   ],
   "source": [
    "print(x_train.shape, y_train.shape, x_test.shape, y_test.shape)"
   ]
  },
  {
   "cell_type": "markdown",
   "metadata": {
    "id": "Q3CQoKp2uQ46"
   },
   "source": [
    "## Создание, компиляция и обучение многослойного перцептрона по архитектуре описанной в статье\n",
    "\n",
    "!!! В отличие от статьи, был использован имеющийся в библиотеке keras оптимизатор Adam, а не предложенная в статье Levenberg-Marquardt, что будет изменено в следующих итерациях работы над проектом.\n",
    "\n",
    "На втором слое используется функция активации - логистическая сигмоида (в keras [она носит название sigmoid](https://keras.io/api/layers/activations/)), интеграл которой в контексте полилогарифмической функции описан в статье формулами (9-11).\n",
    "\n",
    "На третьем слое используется функция активации linear, [которая возвращает значение без измнений](https://keras.io/api/layers/activations/)."
   ]
  },
  {
   "cell_type": "code",
   "execution_count": 23,
   "metadata": {
    "colab": {
     "base_uri": "https://localhost:8080/",
     "height": 248
    },
    "id": "4E3vlLajxtVq",
    "outputId": "b3eba634-e771-4115-9f81-2c41c5709265"
   },
   "outputs": [
    {
     "name": "stderr",
     "output_type": "stream",
     "text": [
      "/Users/grindelf/Programming/JUPITER/venv/lib/python3.12/site-packages/keras/src/layers/core/dense.py:87: UserWarning: Do not pass an `input_shape`/`input_dim` argument to a layer. When using Sequential models, prefer using an `Input(shape)` object as the first layer in the model instead.\n",
      "  super().__init__(activity_regularizer=activity_regularizer, **kwargs)\n"
     ]
    },
    {
     "data": {
      "text/html": [
       "<pre style=\"white-space:pre;overflow-x:auto;line-height:normal;font-family:Menlo,'DejaVu Sans Mono',consolas,'Courier New',monospace\"><span style=\"font-weight: bold\">Model: \"sequential\"</span>\n",
       "</pre>\n"
      ],
      "text/plain": [
       "\u001b[1mModel: \"sequential\"\u001b[0m\n"
      ]
     },
     "metadata": {},
     "output_type": "display_data"
    },
    {
     "data": {
      "text/html": [
       "<pre style=\"white-space:pre;overflow-x:auto;line-height:normal;font-family:Menlo,'DejaVu Sans Mono',consolas,'Courier New',monospace\">┏━━━━━━━━━━━━━━━━━━━━━━━━━━━━━━━━━┳━━━━━━━━━━━━━━━━━━━━━━━━┳━━━━━━━━━━━━━━━┓\n",
       "┃<span style=\"font-weight: bold\"> Layer (type)                    </span>┃<span style=\"font-weight: bold\"> Output Shape           </span>┃<span style=\"font-weight: bold\">       Param # </span>┃\n",
       "┡━━━━━━━━━━━━━━━━━━━━━━━━━━━━━━━━━╇━━━━━━━━━━━━━━━━━━━━━━━━╇━━━━━━━━━━━━━━━┩\n",
       "│ dense (<span style=\"color: #0087ff; text-decoration-color: #0087ff\">Dense</span>)                   │ (<span style=\"color: #00d7ff; text-decoration-color: #00d7ff\">None</span>, <span style=\"color: #00af00; text-decoration-color: #00af00\">10000</span>)          │        <span style=\"color: #00af00; text-decoration-color: #00af00\">20,000</span> │\n",
       "├─────────────────────────────────┼────────────────────────┼───────────────┤\n",
       "│ dense_1 (<span style=\"color: #0087ff; text-decoration-color: #0087ff\">Dense</span>)                 │ (<span style=\"color: #00d7ff; text-decoration-color: #00d7ff\">None</span>, <span style=\"color: #00af00; text-decoration-color: #00af00\">1</span>)              │        <span style=\"color: #00af00; text-decoration-color: #00af00\">10,001</span> │\n",
       "└─────────────────────────────────┴────────────────────────┴───────────────┘\n",
       "</pre>\n"
      ],
      "text/plain": [
       "┏━━━━━━━━━━━━━━━━━━━━━━━━━━━━━━━━━┳━━━━━━━━━━━━━━━━━━━━━━━━┳━━━━━━━━━━━━━━━┓\n",
       "┃\u001b[1m \u001b[0m\u001b[1mLayer (type)                   \u001b[0m\u001b[1m \u001b[0m┃\u001b[1m \u001b[0m\u001b[1mOutput Shape          \u001b[0m\u001b[1m \u001b[0m┃\u001b[1m \u001b[0m\u001b[1m      Param #\u001b[0m\u001b[1m \u001b[0m┃\n",
       "┡━━━━━━━━━━━━━━━━━━━━━━━━━━━━━━━━━╇━━━━━━━━━━━━━━━━━━━━━━━━╇━━━━━━━━━━━━━━━┩\n",
       "│ dense (\u001b[38;5;33mDense\u001b[0m)                   │ (\u001b[38;5;45mNone\u001b[0m, \u001b[38;5;34m10000\u001b[0m)          │        \u001b[38;5;34m20,000\u001b[0m │\n",
       "├─────────────────────────────────┼────────────────────────┼───────────────┤\n",
       "│ dense_1 (\u001b[38;5;33mDense\u001b[0m)                 │ (\u001b[38;5;45mNone\u001b[0m, \u001b[38;5;34m1\u001b[0m)              │        \u001b[38;5;34m10,001\u001b[0m │\n",
       "└─────────────────────────────────┴────────────────────────┴───────────────┘\n"
      ]
     },
     "metadata": {},
     "output_type": "display_data"
    },
    {
     "data": {
      "text/html": [
       "<pre style=\"white-space:pre;overflow-x:auto;line-height:normal;font-family:Menlo,'DejaVu Sans Mono',consolas,'Courier New',monospace\"><span style=\"font-weight: bold\"> Total params: </span><span style=\"color: #00af00; text-decoration-color: #00af00\">30,001</span> (117.19 KB)\n",
       "</pre>\n"
      ],
      "text/plain": [
       "\u001b[1m Total params: \u001b[0m\u001b[38;5;34m30,001\u001b[0m (117.19 KB)\n"
      ]
     },
     "metadata": {},
     "output_type": "display_data"
    },
    {
     "data": {
      "text/html": [
       "<pre style=\"white-space:pre;overflow-x:auto;line-height:normal;font-family:Menlo,'DejaVu Sans Mono',consolas,'Courier New',monospace\"><span style=\"font-weight: bold\"> Trainable params: </span><span style=\"color: #00af00; text-decoration-color: #00af00\">30,001</span> (117.19 KB)\n",
       "</pre>\n"
      ],
      "text/plain": [
       "\u001b[1m Trainable params: \u001b[0m\u001b[38;5;34m30,001\u001b[0m (117.19 KB)\n"
      ]
     },
     "metadata": {},
     "output_type": "display_data"
    },
    {
     "data": {
      "text/html": [
       "<pre style=\"white-space:pre;overflow-x:auto;line-height:normal;font-family:Menlo,'DejaVu Sans Mono',consolas,'Courier New',monospace\"><span style=\"font-weight: bold\"> Non-trainable params: </span><span style=\"color: #00af00; text-decoration-color: #00af00\">0</span> (0.00 B)\n",
       "</pre>\n"
      ],
      "text/plain": [
       "\u001b[1m Non-trainable params: \u001b[0m\u001b[38;5;34m0\u001b[0m (0.00 B)\n"
      ]
     },
     "metadata": {},
     "output_type": "display_data"
    }
   ],
   "source": [
    "model = Sequential()\n",
    "model.add(Dense(10000, input_dim=1, activation='sigmoid'))\n",
    "model.add(Dense(1, activation='linear'))\n",
    "model.summary()"
   ]
  },
  {
   "cell_type": "code",
   "execution_count": 24,
   "metadata": {
    "id": "t7jn12_EyrSZ"
   },
   "outputs": [],
   "source": [
    "model.compile(optimizer='adam',\n",
    "              loss='mean_squared_error')"
   ]
  },
  {
   "cell_type": "markdown",
   "metadata": {
    "id": "c5Vj5njvutK1"
   },
   "source": [
    "Обучение проводится с размером батча 20, в 30 эпох. 33% тренировочной выборки используется для валидации."
   ]
  },
  {
   "cell_type": "code",
   "execution_count": 25,
   "metadata": {
    "colab": {
     "base_uri": "https://localhost:8080/"
    },
    "id": "8NH0Nc66zRMT",
    "outputId": "499bcc07-79e9-4e8a-bfe1-78eef4d33d3e"
   },
   "outputs": [
    {
     "name": "stdout",
     "output_type": "stream",
     "text": [
      "Epoch 1/10\n",
      "\u001b[1m25125/25125\u001b[0m \u001b[32m━━━━━━━━━━━━━━━━━━━━\u001b[0m\u001b[37m\u001b[0m \u001b[1m31s\u001b[0m 1ms/step - loss: 0.0738 - val_loss: 0.0120\n",
      "Epoch 2/10\n",
      "\u001b[1m25125/25125\u001b[0m \u001b[32m━━━━━━━━━━━━━━━━━━━━\u001b[0m\u001b[37m\u001b[0m \u001b[1m29s\u001b[0m 1ms/step - loss: 0.0137 - val_loss: 9.4388e-04\n",
      "Epoch 3/10\n",
      "\u001b[1m25125/25125\u001b[0m \u001b[32m━━━━━━━━━━━━━━━━━━━━\u001b[0m\u001b[37m\u001b[0m \u001b[1m29s\u001b[0m 1ms/step - loss: 0.0035 - val_loss: 9.4162e-04\n",
      "Epoch 4/10\n",
      "\u001b[1m25125/25125\u001b[0m \u001b[32m━━━━━━━━━━━━━━━━━━━━\u001b[0m\u001b[37m\u001b[0m \u001b[1m31s\u001b[0m 1ms/step - loss: 0.0019 - val_loss: 8.1536e-04\n",
      "Epoch 5/10\n",
      "\u001b[1m25125/25125\u001b[0m \u001b[32m━━━━━━━━━━━━━━━━━━━━\u001b[0m\u001b[37m\u001b[0m \u001b[1m33s\u001b[0m 1ms/step - loss: 0.0016 - val_loss: 3.9602e-04\n",
      "Epoch 6/10\n",
      "\u001b[1m25125/25125\u001b[0m \u001b[32m━━━━━━━━━━━━━━━━━━━━\u001b[0m\u001b[37m\u001b[0m \u001b[1m32s\u001b[0m 1ms/step - loss: 9.5622e-04 - val_loss: 3.9207e-04\n",
      "Epoch 7/10\n",
      "\u001b[1m25125/25125\u001b[0m \u001b[32m━━━━━━━━━━━━━━━━━━━━\u001b[0m\u001b[37m\u001b[0m \u001b[1m32s\u001b[0m 1ms/step - loss: 0.0011 - val_loss: 3.0457e-04\n",
      "Epoch 8/10\n",
      "\u001b[1m25125/25125\u001b[0m \u001b[32m━━━━━━━━━━━━━━━━━━━━\u001b[0m\u001b[37m\u001b[0m \u001b[1m31s\u001b[0m 1ms/step - loss: 8.3983e-04 - val_loss: 2.6296e-04\n",
      "Epoch 9/10\n",
      "\u001b[1m25125/25125\u001b[0m \u001b[32m━━━━━━━━━━━━━━━━━━━━\u001b[0m\u001b[37m\u001b[0m \u001b[1m32s\u001b[0m 1ms/step - loss: 6.1866e-04 - val_loss: 4.2634e-04\n",
      "Epoch 10/10\n",
      "\u001b[1m25125/25125\u001b[0m \u001b[32m━━━━━━━━━━━━━━━━━━━━\u001b[0m\u001b[37m\u001b[0m \u001b[1m32s\u001b[0m 1ms/step - loss: 6.4321e-04 - val_loss: 2.5071e-04\n"
     ]
    }
   ],
   "source": [
    "history = model.fit(x_train, y_train, batch_size=20, epochs=10, validation_split=0.33)"
   ]
  },
  {
   "cell_type": "markdown",
   "metadata": {
    "id": "Jm8dLsrWu5BZ"
   },
   "source": [
    "## Оценка обучения нейросети по фунции потерь \"Среднеквадратичная ошибка\""
   ]
  },
  {
   "cell_type": "code",
   "execution_count": 26,
   "metadata": {
    "colab": {
     "base_uri": "https://localhost:8080/",
     "height": 472
    },
    "id": "Tz8KJTupzaQv",
    "outputId": "cabe52e7-6328-431a-a42e-f79758a250dc"
   },
   "outputs": [
    {
     "data": {
      "image/png": "[encoded data removed]",
      "text/plain": [
       "<Figure size 640x480 with 1 Axes>"
      ]
     },
     "metadata": {},
     "output_type": "display_data"
    }
   ],
   "source": [
    "plt.plot(history.history['loss'][1:])\n",
    "plt.plot(history.history['val_loss'][1:])\n",
    "plt.title('Среднеквадратичная ошибка модели')\n",
    "plt.ylabel('MSE')\n",
    "plt.xlabel('Эпоха')\n",
    "plt.legend(['Тренировочные', 'Валидационные'], loc='upper left')\n",
    "plt.show()"
   ]
  },
  {
   "cell_type": "markdown",
   "metadata": {
    "id": "RhVEyfFWv_3W"
   },
   "source": [
    "## Тестирование модели\n",
    "\n",
    "Результат ниже в виде функции потерь"
   ]
  },
  {
   "cell_type": "code",
   "execution_count": 27,
   "metadata": {
    "colab": {
     "base_uri": "https://localhost:8080/"
    },
    "id": "GGcbFkwPzyhA",
    "outputId": "700b6065-bd9b-400e-9b6b-0a821f51d3dd"
   },
   "outputs": [
    {
     "name": "stdout",
     "output_type": "stream",
     "text": [
      "\u001b[1m7813/7813\u001b[0m \u001b[32m━━━━━━━━━━━━━━━━━━━━\u001b[0m\u001b[37m\u001b[0m \u001b[1m5s\u001b[0m 593us/step - loss: 4.4690e-04\n"
     ]
    },
    {
     "data": {
      "text/plain": [
       "0.00048760388744995"
      ]
     },
     "execution_count": 27,
     "metadata": {},
     "output_type": "execute_result"
    }
   ],
   "source": [
    "model.evaluate(x_test, y_test)"
   ]
  },
  {
   "cell_type": "markdown",
   "metadata": {
    "id": "EIrnDDX3wPmy"
   },
   "source": [
    "## Использование весов и смещений обученной нейросети для вычисления определенных интегралов по различным интервалам"
   ]
  },
  {
   "cell_type": "code",
   "execution_count": 37,
   "metadata": {
    "colab": {
     "base_uri": "https://localhost:8080/"
    },
    "id": "tzGuwdBuei7o",
    "outputId": "34e603da-8997-4fd9-9559-6d76f4227356"
   },
   "outputs": [
    {
     "name": "stdout",
     "output_type": "stream",
     "text": [
      "Интеграл между 0 и 5: 3.93645814556901\n",
      "Интеграл между 5 и 20: 39.7984886815476\n",
      "Интеграл между 10 и 35: 81.4481039637994\n",
      "Интеграл между 15 и 50: 127.085895555461\n"
     ]
    },
    {
     "name": "stderr",
     "output_type": "stream",
     "text": [
      "/var/folders/df/v02b0vfx2tbc5plrdx4v6gk80000gn/T/ipykernel_14537/3468556677.py:3: RuntimeWarning: overflow encountered in exp\n",
      "  term2 = polylog(1, -np.exp(-b_1_j - w_1_j * beta_1))\n"
     ]
    },
    {
     "name": "stdout",
     "output_type": "stream",
     "text": [
      "Интеграл между 20 и 65: +inf\n",
      "Интеграл между 25 и 80: +inf\n",
      "Интеграл между 30 и 95: +inf\n",
      "Интеграл между 35 и 110: nan\n",
      "Интеграл между 40 и 125: nan\n",
      "Интеграл между 45 и 140: nan\n"
     ]
    }
   ],
   "source": [
    "nni = []\n",
    "\n",
    "w_b = model.get_weights()\n",
    "\n",
    "for i in range(0, 50, 5):\n",
    "  nni.append(approximated_integral(w_b, i, 3*i + 5)[0])\n",
    "  print(f'Интеграл между {i} и {3*i + 5}: {nni[-1]}')"
   ]
  },
  {
   "cell_type": "markdown",
   "metadata": {
    "id": "zezyt5xlwb-R"
   },
   "source": [
    "## Вычисление определенных интегралов по подобным интервалам методом Симпсона"
   ]
  },
  {
   "cell_type": "code",
   "execution_count": 38,
   "metadata": {
    "colab": {
     "base_uri": "https://localhost:8080/"
    },
    "id": "xkfr4a0Me0RG",
    "outputId": "6b4c6165-062f-41b4-8940-41586c00fd77"
   },
   "outputs": [
    {
     "name": "stdout",
     "output_type": "stream",
     "text": [
      "Интеграл между 0 и 5: -inf\n",
      "Интеграл между 5 и 20: 36.86745586847303\n",
      "Интеграл между 10 и 35: 76.41133118617802\n",
      "Интеграл между 15 и 50: 119.98039721551218\n",
      "Интеграл между 20 и 65: 166.42052702784707\n",
      "Интеграл между 25 и 80: 215.0902351024121\n",
      "Интеграл между 30 и 95: 265.58238319661587\n",
      "Интеграл между 35 и 110: 317.615658023537\n",
      "Интеграл между 40 и 125: 370.9840389307101\n",
      "Интеграл между 45 и 140: 425.53012705203713\n"
     ]
    },
    {
     "name": "stderr",
     "output_type": "stream",
     "text": [
      "/var/folders/df/v02b0vfx2tbc5plrdx4v6gk80000gn/T/ipykernel_14537/3039598682.py:2: RuntimeWarning: divide by zero encountered in log\n",
      "  return np.log(x)\n"
     ]
    }
   ],
   "source": [
    "sni = []\n",
    "\n",
    "for i in range(0, 50, 5):\n",
    "  sni.append(solve_integral(i, 3*i + 5))\n",
    "  print(f'Интеграл между {i} и {3*i + 5}: {sni[-1]}')"
   ]
  },
  {
   "cell_type": "markdown",
   "metadata": {
    "id": "uEkz6hJ4wiUq"
   },
   "source": [
    "## Абсолютная величина расхождения значений определенных интеграллов полученных двумя методами и визуализация"
   ]
  },
  {
   "cell_type": "code",
   "execution_count": 39,
   "metadata": {
    "colab": {
     "base_uri": "https://localhost:8080/"
    },
    "id": "D4xOqPukgWT3",
    "outputId": "13d04b76-7fdc-4376-c27c-e3938d6db2f1"
   },
   "outputs": [
    {
     "name": "stdout",
     "output_type": "stream",
     "text": [
      "+inf\n",
      "2.93103281307453\n",
      "5.03677277762137\n",
      "7.10549833994887\n",
      "+inf\n",
      "+inf\n",
      "+inf\n",
      "nan\n",
      "nan\n",
      "nan\n"
     ]
    }
   ],
   "source": [
    "for i in range(len(nni)):\n",
    "  print(abs(nni[i] - sni[i]))"
   ]
  },
  {
   "cell_type": "code",
   "execution_count": 40,
   "metadata": {
    "colab": {
     "base_uri": "https://localhost:8080/",
     "height": 545
    },
    "id": "TU7c8OSYpJWy",
    "outputId": "54dede5c-66e0-490d-99a5-5a915b03351c"
   },
   "outputs": [
    {
     "name": "stderr",
     "output_type": "stream",
     "text": [
      "/Users/grindelf/Programming/JUPITER/venv/lib/python3.12/site-packages/matplotlib/cbook.py:1398: RuntimeWarning: invalid value encountered in cast\n",
      "  return np.asarray(x, float)\n"
     ]
    },
    {
     "data": {
      "image/png": "[encoded data removed]",
      "text/plain": [
       "<Figure size 1000x600 with 1 Axes>"
      ]
     },
     "metadata": {},
     "output_type": "display_data"
    }
   ],
   "source": [
    "plt.figure(figsize=(10, 6))\n",
    "plt.plot(nni, label='NNI', marker='o', linestyle='-', color='b')\n",
    "plt.plot(sni, label='SNI', marker='x', linestyle='--', color='r')\n",
    "plt.title('Расхождение NNI и SNI')\n",
    "plt.legend()\n",
    "plt.grid(True)\n",
    "plt.show()"
   ]
  },
  {
   "cell_type": "markdown",
   "metadata": {
    "id": "IXmy7LZ1x6uG"
   },
   "source": [
    "## Выводы\n",
    "\n",
    "1. Без использования предложенного в статье оптимизатора обучения, нейросеть уже показывает неплохое значение функции потерь.\n",
    "2. Следует уделить большее время подбору подходящего размера скрытого слоя и параметров обучения (по первому в статье присутсвтуют определенные рекомендации).\n",
    "3. Следует выяснить, почему полученный по формуле (15) интеграл так сильно отличается от такого же, полученного методом Симпсона на широких (шире 10) интервалах."
   ]
  }
 ],
 "metadata": {
  "colab": {
   "provenance": []
  },
  "kernelspec": {
   "display_name": "venv",
   "language": "python",
   "name": "venv"
  },
  "language_info": {
   "codemirror_mode": {
    "name": "ipython",
    "version": 3
   },
   "file_extension": ".py",
   "mimetype": "text/x-python",
   "name": "python",
   "nbconvert_exporter": "python",
   "pygments_lexer": "ipython3",
   "version": "3.12.6"
  }
 },
 "nbformat": 4,
 "nbformat_minor": 4
}
